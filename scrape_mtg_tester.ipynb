{
 "cells": [
  {
   "cell_type": "code",
   "execution_count": 87,
   "metadata": {},
   "outputs": [],
   "source": [
    "import pandas as pd\n",
    "from splinter import Browser\n",
    "from bs4 import BeautifulSoup as bs\n",
    "import time\n",
    "import datetime"
   ]
  },
  {
   "cell_type": "code",
   "execution_count": 88,
   "metadata": {},
   "outputs": [
    {
     "data": {
      "text/plain": [
       "'9/23/2019'"
      ]
     },
     "execution_count": 88,
     "metadata": {},
     "output_type": "execute_result"
    }
   ],
   "source": [
    "year = datetime.datetime.now().year\n",
    "month = datetime.datetime.now().month\n",
    "day = datetime.datetime.now().day\n",
    "today = f'{month}/{day}/{year}'\n",
    "today"
   ]
  },
  {
   "cell_type": "code",
   "execution_count": 89,
   "metadata": {},
   "outputs": [],
   "source": [
    "executable_path = {'executable_path': 'chromedriver'}\n",
    "browser = Browser('chrome', **executable_path, headless=False)"
   ]
  },
  {
   "cell_type": "code",
   "execution_count": 90,
   "metadata": {},
   "outputs": [],
   "source": [
    "url = 'https://shop.tcgplayer.com/magic/product/show?_gl=1*1at1pyd*_gcl_aw*R0NMLjE1NjQ3NTUyODYuQ2owS0NRand2b19xQlJEUUFSSXNBRS1ic0gtMlk0UzB6VmZGUEFQLWU0RlU3bzFBczVFd0E5ODJfTzE4SE9ibG5WZ0NvcFRqZXdLWHlRZ2FBbF9hRUFMd193Y0I.'\n",
    "browser.visit(url)\n",
    "\n",
    "# select dropdown & sort option (high to low)\n",
    "browser.find_by_id('ProductSort').click()\n",
    "browser.find_by_value('MinPrice DESC').click()\n",
    "time.sleep(2)\n",
    "browser.find_by_text(' Filters').click()\n",
    "# select the filters: Listings with photos, Normal, Near Mint\n",
    "time.sleep(3)\n",
    "browser.click_link_by_partial_text('Listings With Photos')\n",
    "time.sleep(3)\n",
    "browser.click_link_by_partial_text('Normal')\n",
    "time.sleep(3)\n",
    "browser.click_link_by_partial_text('Near Mint')\n",
    "# navigate back to main page\n",
    "time.sleep(3)\n",
    "browser.find_by_text(' Filters').click()\n",
    "time.sleep(3)\n",
    "browser.find_by_text('Magic: The Gathering').click()\n",
    "browser.back()"
   ]
  },
  {
   "cell_type": "code",
   "execution_count": 91,
   "metadata": {},
   "outputs": [],
   "source": [
    "# dict layout for database:\n",
    "# {\n",
    "#     'card_name': '',\n",
    "#     'edition': {\n",
    "#         'actual addition name': {\n",
    "#             'price/time': {\n",
    "#                 'actual date recorded': 'actual price'\n",
    "#             }\n",
    "#         }\n",
    "#     },\n",
    "#     'rarity': '',\n",
    "# }"
   ]
  },
  {
   "cell_type": "code",
   "execution_count": 92,
   "metadata": {},
   "outputs": [],
   "source": [
    "# may need to include a database check, maybe import and then do loop to check if item is in database already\n",
    "# if database becomes too big maybe include the db call in the loop and do one card at a time"
   ]
  },
  {
   "cell_type": "code",
   "execution_count": 93,
   "metadata": {},
   "outputs": [],
   "source": [
    "card_list =[]\n",
    "counter = 1\n",
    "end_loop = False\n",
    "# outer loop\n",
    "while end_loop == False:\n",
    "    counter += 1\n",
    "    html = browser.html\n",
    "    soup = bs(html, \"html.parser\")\n",
    "    current_cards = soup.find_all('div', class_='product')\n",
    "    # inner loop\n",
    "    for current_card in current_cards:\n",
    "        card = {}\n",
    "        card['card_name'] = current_card\\\n",
    "            .find('div', class_=\"product__details\")\\\n",
    "            .find('a', class_='product__name').text.strip()\n",
    "        card['edition'] = current_card\\\n",
    "            .find('div', class_=\"product__details\")\\\n",
    "            .find('a', class_='product__group').text.strip()\n",
    "        card['rarity'] = current_card\\\n",
    "            .find('div', class_=\"product__details\")\\\n",
    "            .find('div', class_='product__extended-fields').text.strip()\n",
    "        card['date/price'] = {\n",
    "            today: current_card\\\n",
    "            .find('div', class_=\"product__details\")\\\n",
    "            .find('dd').text.strip()[1:]\n",
    "        }\n",
    "        if card['date/price'][today] == 'navailable':\n",
    "            break\n",
    "        elif float(card['date/price'][today]) < 5:#if trouble shooting increase this value to 2000\n",
    "            end_loop = True\n",
    "            break\n",
    "        else:\n",
    "            card_list.append(card)\n",
    "    time.sleep(3)\n",
    "    browser.click_link_by_text(str(counter))"
   ]
  },
  {
   "cell_type": "code",
   "execution_count": 94,
   "metadata": {},
   "outputs": [
    {
     "data": {
      "text/plain": [
       "[{'card_name': 'Underground Sea',\n",
       "  'edition': 'Beta Edition (Magic)',\n",
       "  'rarity': 'Rarity R',\n",
       "  'date/price': {'9/23/2019': '5999.95'}},\n",
       " {'card_name': 'Black Lotus',\n",
       "  'edition': 'Beta Edition (Magic)',\n",
       "  'rarity': 'Rarity R',\n",
       "  'date/price': {'9/23/2019': '4650.00'}},\n",
       " {'card_name': 'Black Lotus',\n",
       "  'edition': 'Unlimited Edition (Magic)',\n",
       "  'rarity': 'Rarity R',\n",
       "  'date/price': {'9/23/2019': '3999.00'}},\n",
       " {'card_name': 'Mox Jet',\n",
       "  'edition': 'Beta Edition (Magic)',\n",
       "  'rarity': 'Rarity R',\n",
       "  'date/price': {'9/23/2019': '3199.99'}},\n",
       " {'card_name': 'Forcefield',\n",
       "  'edition': 'Alpha Edition (Magic)',\n",
       "  'rarity': 'Rarity R',\n",
       "  'date/price': {'9/23/2019': '3000.00'}},\n",
       " {'card_name': 'Underground Sea',\n",
       "  'edition': 'Beta Edition (Magic)',\n",
       "  'rarity': 'Rarity R',\n",
       "  'date/price': {'9/23/2019': '5999.95'}},\n",
       " {'card_name': 'Black Lotus',\n",
       "  'edition': 'Beta Edition (Magic)',\n",
       "  'rarity': 'Rarity R',\n",
       "  'date/price': {'9/23/2019': '4650.00'}},\n",
       " {'card_name': 'Black Lotus',\n",
       "  'edition': 'Unlimited Edition (Magic)',\n",
       "  'rarity': 'Rarity R',\n",
       "  'date/price': {'9/23/2019': '3999.00'}},\n",
       " {'card_name': 'Mox Jet',\n",
       "  'edition': 'Beta Edition (Magic)',\n",
       "  'rarity': 'Rarity R',\n",
       "  'date/price': {'9/23/2019': '3199.99'}},\n",
       " {'card_name': 'Forcefield',\n",
       "  'edition': 'Alpha Edition (Magic)',\n",
       "  'rarity': 'Rarity R',\n",
       "  'date/price': {'9/23/2019': '3000.00'}},\n",
       " {'card_name': 'Mox Ruby',\n",
       "  'edition': 'Beta Edition (Magic)',\n",
       "  'rarity': 'Rarity R',\n",
       "  'date/price': {'9/23/2019': '2199.99'}},\n",
       " {'card_name': 'Black Lotus (CE)',\n",
       "  'edition': \"Collector's Edition (Magic)\",\n",
       "  'rarity': 'Rarity R',\n",
       "  'date/price': {'9/23/2019': '2198.21'}},\n",
       " {'card_name': 'Ancestral Recall',\n",
       "  'edition': 'Unlimited Edition (Magic)',\n",
       "  'rarity': 'Rarity R',\n",
       "  'date/price': {'9/23/2019': '2052.61'}},\n",
       " {'card_name': 'The Tabernacle at Pendrell Vale',\n",
       "  'edition': 'Legends (Magic)',\n",
       "  'rarity': 'Rarity R',\n",
       "  'date/price': {'9/23/2019': '2000.09'}}]"
      ]
     },
     "execution_count": 94,
     "metadata": {},
     "output_type": "execute_result"
    }
   ],
   "source": [
    "card_list"
   ]
  },
  {
   "cell_type": "code",
   "execution_count": null,
   "metadata": {},
   "outputs": [],
   "source": []
  }
 ],
 "metadata": {
  "kernelspec": {
   "display_name": "Python 3",
   "language": "python",
   "name": "python3"
  },
  "language_info": {
   "codemirror_mode": {
    "name": "ipython",
    "version": 3
   },
   "file_extension": ".py",
   "mimetype": "text/x-python",
   "name": "python",
   "nbconvert_exporter": "python",
   "pygments_lexer": "ipython3",
   "version": "3.7.3"
  }
 },
 "nbformat": 4,
 "nbformat_minor": 2
}
